{
 "cells": [
  {
   "cell_type": "code",
   "execution_count": 14,
   "id": "8e9e2d3a",
   "metadata": {},
   "outputs": [],
   "source": [
    "import numpy as np\n",
    "import pandas as pd\n",
    "import nltk\n",
    "from nltk.corpus import stopwords\n",
    "from nltk.stem import PorterStemmer\n",
    "import string\n",
    "from sklearn.feature_extraction.text import TfidfVectorizer\n",
    "from sklearn.model_selection import train_test_split\n",
    "from sklearn.naive_bayes import MultinomialNB\n",
    "from sklearn.metrics import accuracy_score, confusion_matrix, precision_score\n",
    "import matplotlib.pyplot as plt\n",
    "import seaborn as sns"
   ]
  },
  {
   "cell_type": "code",
   "execution_count": 30,
   "id": "d660cd48",
   "metadata": {},
   "outputs": [
    {
     "name": "stderr",
     "output_type": "stream",
     "text": [
      "C:\\Users\\unfri\\AppData\\Local\\Temp\\ipykernel_6972\\620013736.py:1: DtypeWarning: Columns (2,3,4,5,6,7,8,9,10,11,12,13,14,15,16,17,18,19,20,21,22,23,24,25,26,27,28,29,30,31,32,33,34,35,36,37,38,39,40,41,42,43,44,45,46,47,48,49,50,51,52,53,54,55,56,57,58,59,60,61,62,63,64,65,66,67,68,69,70,71,72,73,74,75,76,77,78,79,80,81,82,83,84,85,86,87,88,89,90,91,92,93,94,95,96,97,98,99,100,101,102,103,104,105,106,107,108,109,110,111,112,113,114,115,116,117,118,119,120,121,122,123,124,125,126,127,128,129,130,131,132,133,134,135,136,137,138,139,140,141,142,143,144,145,146,147,148,149,150,151,152,153,154,155,156,157,158,159,160,161,162,163,164,165,166,167,168,169,170,171,172,173,174,175,176,177,178,179,180,181,182,183,184,185,186,187,188,189,190,191,192,193,194,195,196,197,198,199,200,201,202,203,204,205,206,207,208,209,210,211,212,213,214,215,216,217,218,219,220,221,222,223,224,225,226,227,228,229,230,231,232,233,234,235,236,237,239,240,241,242,243,244,245,246,247,248,249,250,251,252,253,254,255,256,257,258,259,260,261,262,263,264,265,266,267,268,269,270,271,272,273,274,275,276,277,278,279,280,281,282,283,284,285,286,287,288,289,290,291,292,294,295,296,297,298,299,300,301,302,303,304,305,306,308,309,310,311,312,313,314,315,316,317,318,319,320,321,322,323,324,325,326,327,328,329,330,331,332,333,334,335,336,337,338,339,340,341,342,343,344,345,346,347,348,349,350,351,352,353,354,355,356,357,358,359,360,361,362,363,364,365,366,367,368,369,370,371,372,373,374,375,376,377,378,379,380,381,382,383,384,385,386,387,388,389,390,391,392,393,394,395,396,397,398,399,400,401,402,403,404,405,406,407,408,409,410,411,412,413,414,415,416,417,418,419,420,421) have mixed types. Specify dtype option on import or set low_memory=False.\n",
      "  df = pd.read_csv('email.csv')\n"
     ]
    },
    {
     "data": {
      "text/html": [
       "<div>\n",
       "<style scoped>\n",
       "    .dataframe tbody tr th:only-of-type {\n",
       "        vertical-align: middle;\n",
       "    }\n",
       "\n",
       "    .dataframe tbody tr th {\n",
       "        vertical-align: top;\n",
       "    }\n",
       "\n",
       "    .dataframe thead th {\n",
       "        text-align: right;\n",
       "    }\n",
       "</style>\n",
       "<table border=\"1\" class=\"dataframe\">\n",
       "  <thead>\n",
       "    <tr style=\"text-align: right;\">\n",
       "      <th></th>\n",
       "      <th>v1</th>\n",
       "      <th>v2</th>\n",
       "      <th>Unnamed: 2</th>\n",
       "      <th>Unnamed: 3</th>\n",
       "      <th>Unnamed: 4</th>\n",
       "      <th>Unnamed: 5</th>\n",
       "      <th>Unnamed: 6</th>\n",
       "      <th>Unnamed: 7</th>\n",
       "      <th>Unnamed: 8</th>\n",
       "      <th>Unnamed: 9</th>\n",
       "      <th>...</th>\n",
       "      <th>Unnamed: 412</th>\n",
       "      <th>Unnamed: 413</th>\n",
       "      <th>Unnamed: 414</th>\n",
       "      <th>Unnamed: 415</th>\n",
       "      <th>Unnamed: 416</th>\n",
       "      <th>Unnamed: 417</th>\n",
       "      <th>Unnamed: 418</th>\n",
       "      <th>Unnamed: 419</th>\n",
       "      <th>Unnamed: 420</th>\n",
       "      <th>Unnamed: 421</th>\n",
       "    </tr>\n",
       "  </thead>\n",
       "  <tbody>\n",
       "    <tr>\n",
       "      <th>34377</th>\n",
       "      <td>ham</td>\n",
       "      <td>add escapenumber library mass lda escapenumber...</td>\n",
       "      <td>NaN</td>\n",
       "      <td>NaN</td>\n",
       "      <td>NaN</td>\n",
       "      <td>NaN</td>\n",
       "      <td>NaN</td>\n",
       "      <td>NaN</td>\n",
       "      <td>NaN</td>\n",
       "      <td>NaN</td>\n",
       "      <td>...</td>\n",
       "      <td>NaN</td>\n",
       "      <td>NaN</td>\n",
       "      <td>NaN</td>\n",
       "      <td>NaN</td>\n",
       "      <td>NaN</td>\n",
       "      <td>NaN</td>\n",
       "      <td>NaN</td>\n",
       "      <td>NaN</td>\n",
       "      <td>NaN</td>\n",
       "      <td>NaN</td>\n",
       "    </tr>\n",
       "    <tr>\n",
       "      <th>9835</th>\n",
       "      <td>spam</td>\n",
       "      <td>fascinate gym turning different ticket miles s...</td>\n",
       "      <td>NaN</td>\n",
       "      <td>NaN</td>\n",
       "      <td>NaN</td>\n",
       "      <td>NaN</td>\n",
       "      <td>NaN</td>\n",
       "      <td>NaN</td>\n",
       "      <td>NaN</td>\n",
       "      <td>NaN</td>\n",
       "      <td>...</td>\n",
       "      <td>NaN</td>\n",
       "      <td>NaN</td>\n",
       "      <td>NaN</td>\n",
       "      <td>NaN</td>\n",
       "      <td>NaN</td>\n",
       "      <td>NaN</td>\n",
       "      <td>NaN</td>\n",
       "      <td>NaN</td>\n",
       "      <td>NaN</td>\n",
       "      <td>NaN</td>\n",
       "    </tr>\n",
       "    <tr>\n",
       "      <th>67852</th>\n",
       "      <td>spam</td>\n",
       "      <td>hi i am tired this evening i am escapenumber y...</td>\n",
       "      <td>NaN</td>\n",
       "      <td>NaN</td>\n",
       "      <td>NaN</td>\n",
       "      <td>NaN</td>\n",
       "      <td>NaN</td>\n",
       "      <td>NaN</td>\n",
       "      <td>NaN</td>\n",
       "      <td>NaN</td>\n",
       "      <td>...</td>\n",
       "      <td>NaN</td>\n",
       "      <td>NaN</td>\n",
       "      <td>NaN</td>\n",
       "      <td>NaN</td>\n",
       "      <td>NaN</td>\n",
       "      <td>NaN</td>\n",
       "      <td>NaN</td>\n",
       "      <td>NaN</td>\n",
       "      <td>NaN</td>\n",
       "      <td>NaN</td>\n",
       "    </tr>\n",
       "    <tr>\n",
       "      <th>19173</th>\n",
       "      <td>ham</td>\n",
       "      <td>on escapenumber escapenumber escapenumber ken ...</td>\n",
       "      <td>NaN</td>\n",
       "      <td>NaN</td>\n",
       "      <td>NaN</td>\n",
       "      <td>NaN</td>\n",
       "      <td>NaN</td>\n",
       "      <td>NaN</td>\n",
       "      <td>NaN</td>\n",
       "      <td>NaN</td>\n",
       "      <td>...</td>\n",
       "      <td>NaN</td>\n",
       "      <td>NaN</td>\n",
       "      <td>NaN</td>\n",
       "      <td>NaN</td>\n",
       "      <td>NaN</td>\n",
       "      <td>NaN</td>\n",
       "      <td>NaN</td>\n",
       "      <td>NaN</td>\n",
       "      <td>NaN</td>\n",
       "      <td>NaN</td>\n",
       "    </tr>\n",
       "    <tr>\n",
       "      <th>98015</th>\n",
       "      <td>spam</td>\n",
       "      <td>anatrim escapenumber the up to the moment and ...</td>\n",
       "      <td>NaN</td>\n",
       "      <td>NaN</td>\n",
       "      <td>NaN</td>\n",
       "      <td>NaN</td>\n",
       "      <td>NaN</td>\n",
       "      <td>NaN</td>\n",
       "      <td>NaN</td>\n",
       "      <td>NaN</td>\n",
       "      <td>...</td>\n",
       "      <td>NaN</td>\n",
       "      <td>NaN</td>\n",
       "      <td>NaN</td>\n",
       "      <td>NaN</td>\n",
       "      <td>NaN</td>\n",
       "      <td>NaN</td>\n",
       "      <td>NaN</td>\n",
       "      <td>NaN</td>\n",
       "      <td>NaN</td>\n",
       "      <td>NaN</td>\n",
       "    </tr>\n",
       "  </tbody>\n",
       "</table>\n",
       "<p>5 rows × 422 columns</p>\n",
       "</div>"
      ],
      "text/plain": [
       "         v1                                                 v2 Unnamed: 2  \\\n",
       "34377   ham  add escapenumber library mass lda escapenumber...        NaN   \n",
       "9835   spam  fascinate gym turning different ticket miles s...        NaN   \n",
       "67852  spam  hi i am tired this evening i am escapenumber y...        NaN   \n",
       "19173   ham  on escapenumber escapenumber escapenumber ken ...        NaN   \n",
       "98015  spam  anatrim escapenumber the up to the moment and ...        NaN   \n",
       "\n",
       "      Unnamed: 3 Unnamed: 4 Unnamed: 5 Unnamed: 6 Unnamed: 7 Unnamed: 8  \\\n",
       "34377        NaN        NaN        NaN        NaN        NaN        NaN   \n",
       "9835         NaN        NaN        NaN        NaN        NaN        NaN   \n",
       "67852        NaN        NaN        NaN        NaN        NaN        NaN   \n",
       "19173        NaN        NaN        NaN        NaN        NaN        NaN   \n",
       "98015        NaN        NaN        NaN        NaN        NaN        NaN   \n",
       "\n",
       "      Unnamed: 9  ... Unnamed: 412 Unnamed: 413 Unnamed: 414 Unnamed: 415  \\\n",
       "34377        NaN  ...          NaN          NaN          NaN          NaN   \n",
       "9835         NaN  ...          NaN          NaN          NaN          NaN   \n",
       "67852        NaN  ...          NaN          NaN          NaN          NaN   \n",
       "19173        NaN  ...          NaN          NaN          NaN          NaN   \n",
       "98015        NaN  ...          NaN          NaN          NaN          NaN   \n",
       "\n",
       "      Unnamed: 416 Unnamed: 417 Unnamed: 418 Unnamed: 419 Unnamed: 420  \\\n",
       "34377          NaN          NaN          NaN          NaN          NaN   \n",
       "9835           NaN          NaN          NaN          NaN          NaN   \n",
       "67852          NaN          NaN          NaN          NaN          NaN   \n",
       "19173          NaN          NaN          NaN          NaN          NaN   \n",
       "98015          NaN          NaN          NaN          NaN          NaN   \n",
       "\n",
       "      Unnamed: 421  \n",
       "34377          NaN  \n",
       "9835           NaN  \n",
       "67852          NaN  \n",
       "19173          NaN  \n",
       "98015          NaN  \n",
       "\n",
       "[5 rows x 422 columns]"
      ]
     },
     "execution_count": 30,
     "metadata": {},
     "output_type": "execute_result"
    }
   ],
   "source": [
    "df = pd.read_csv('email.csv')\n",
    "df.sample(5)"
   ]
  },
  {
   "cell_type": "code",
   "execution_count": 31,
   "id": "c8e3e9cf",
   "metadata": {},
   "outputs": [],
   "source": [
    "# 1. Data Cleaning\n",
    "columns_to_drop = [f'Unnamed: {i}' for i in range(2, 422)]\n",
    "df.drop(columns=columns_to_drop, inplace=True)\n",
    "df.rename(columns={'v1': 'target', 'v2': 'text'}, inplace=True)\n",
    "df['target'] = df['target'].map({'ham': 0, 'spam': 1})"
   ]
  },
  {
   "cell_type": "code",
   "execution_count": 32,
   "id": "83851320",
   "metadata": {},
   "outputs": [
    {
     "name": "stdout",
     "output_type": "stream",
     "text": [
      "       target                                               text\n",
      "51713     0.0  author metze date escapenumber escapenumber es...\n",
      "97359     1.0  become a student of change it is the only thin...\n",
      "36891     1.0  downloadable software ds is a rapidly growing ...\n",
      "87868     1.0  hey !\\nwe have a n - e - w product that we off...\n",
      "64489     NaN                                                NaN\n",
      "(103534, 2)\n"
     ]
    }
   ],
   "source": [
    "# 2. EDA\n",
    "print(df.sample(5))\n",
    "print(df.shape)"
   ]
  },
  {
   "cell_type": "code",
   "execution_count": 41,
   "id": "fd7aafa3",
   "metadata": {},
   "outputs": [
    {
     "data": {
      "image/png": "[encoded data removed]",
      "text/plain": [
       "<Figure size 600x600 with 1 Axes>"
      ]
     },
     "metadata": {},
     "output_type": "display_data"
    }
   ],
   "source": [
    "# Check target class distribution\n",
    "plt.figure(figsize=(6, 6))\n",
    "sns.countplot(data=df, x='target')\n",
    "plt.title('Target Class Distribution')\n",
    "plt.xlabel('Class')\n",
    "plt.ylabel('Count')\n",
    "plt.show()"
   ]
  },
  {
   "cell_type": "code",
   "execution_count": 40,
   "id": "10ced999",
   "metadata": {},
   "outputs": [
    {
     "data": {
      "image/png": "[encoded data removed]",
      "text/plain": [
       "<Figure size 1000x600 with 1 Axes>"
      ]
     },
     "metadata": {},
     "output_type": "display_data"
    }
   ],
   "source": [
    "# Check the length distribution of messages\n",
    "df['text_length'] = df['text'].astype(str).apply(len)\n",
    "plt.figure(figsize=(10, 6))\n",
    "sns.histplot(df['text_length'], bins=50)\n",
    "plt.title('Message Length Distribution')\n",
    "plt.xlabel('Message Length')\n",
    "plt.ylabel('Frequency')\n",
    "plt.show()"
   ]
  },
  {
   "cell_type": "code",
   "execution_count": 39,
   "id": "c3ee51dc",
   "metadata": {},
   "outputs": [
    {
     "data": {
      "image/png": "[encoded data removed]",
      "text/plain": [
       "<Figure size 600x600 with 1 Axes>"
      ]
     },
     "metadata": {},
     "output_type": "display_data"
    }
   ],
   "source": [
    "# Visualization: Pie chart of target class distribution\n",
    "plt.figure(figsize=(6, 6))\n",
    "plt.pie(df['target'].value_counts(), labels=['ham', 'spam'], autopct=\"%0.2f\")\n",
    "plt.title('Target Class Distribution')\n",
    "plt.show()"
   ]
  },
  {
   "cell_type": "code",
   "execution_count": 35,
   "id": "7af0131c",
   "metadata": {},
   "outputs": [],
   "source": [
    "# Text Preprocessing\n",
    "def transform_text(text):\n",
    "    if isinstance(text, str):\n",
    "        text = text.lower()\n",
    "        text = nltk.word_tokenize(text)\n",
    "        ps = PorterStemmer()\n",
    "        \n",
    "        y = []\n",
    "        for i in text:\n",
    "            if i.isalnum():\n",
    "                y.append(i)\n",
    "        \n",
    "        text = y[:]\n",
    "        y.clear()\n",
    "        \n",
    "        for i in text:\n",
    "            if i not in stopwords.words('english') and i not in string.punctuation:\n",
    "                y.append(i)\n",
    "                \n",
    "        text = y[:]\n",
    "        y.clear()\n",
    "        \n",
    "        for i in text:\n",
    "            y.append(ps.stem(i))\n",
    "        \n",
    "        return \" \".join(y)\n",
    "    else:\n",
    "        return \"\"\n",
    "\n",
    "df['transformed_text'] = df['text'].apply(transform_text)"
   ]
  },
  {
   "cell_type": "code",
   "execution_count": 36,
   "id": "b4c93050",
   "metadata": {},
   "outputs": [],
   "source": [
    "# Text Vectorization\n",
    "tfidf = TfidfVectorizer(max_features=3000)\n",
    "X = tfidf.fit_transform(df['transformed_text']).toarray()\n",
    "y = df['target'].values"
   ]
  },
  {
   "cell_type": "code",
   "execution_count": 45,
   "id": "c27b2bd6",
   "metadata": {},
   "outputs": [
    {
     "name": "stdout",
     "output_type": "stream",
     "text": [
      "NaN values in y_train: True\n",
      "NaN values in y_test: True\n"
     ]
    }
   ],
   "source": [
    "# Model Building\n",
    "\n",
    "# Splitting the data into training and testing sets\n",
    "X_train, X_test, y_train, y_test = train_test_split(X, y, test_size=0.2, random_state=2)\n",
    "\n",
    "# Handling NaN values in the target variable\n",
    "nan_indices_train = np.isnan(y_train)\n",
    "nan_indices_test = np.isnan(y_test)\n",
    "print(\"NaN values in y_train:\", nan_indices_train.any())\n",
    "print(\"NaN values in y_test:\", nan_indices_test.any())\n",
    "\n",
    "# Remove rows with NaN values from both X_train, y_train, X_test, and y_test\n",
    "X_train_cleaned = X_train[~nan_indices_train]\n",
    "y_train_cleaned = y_train[~nan_indices_train]\n",
    "X_test_cleaned = X_test[~nan_indices_test]\n",
    "y_test_cleaned = y_test[~nan_indices_test]\n",
    "\n",
    "# Now fit the model with the cleaned data\n",
    "mnb = MultinomialNB()\n",
    "mnb.fit(X_train_cleaned, y_train_cleaned)\n",
    "y_pred = mnb.predict(X_test_cleaned)"
   ]
  },
  {
   "cell_type": "code",
   "execution_count": 46,
   "id": "3c81e0f5",
   "metadata": {},
   "outputs": [
    {
     "name": "stdout",
     "output_type": "stream",
     "text": [
      "Accuracy: 0.9557463672391017\n",
      "Confusion Matrix:\n",
      "[[7607  410]\n",
      " [ 327 8310]]\n",
      "Precision: 0.9529816513761468\n"
     ]
    }
   ],
   "source": [
    "# Evaluation\n",
    "print(\"Accuracy:\", accuracy_score(y_test_cleaned, y_pred))\n",
    "print(\"Confusion Matrix:\")\n",
    "print(confusion_matrix(y_test_cleaned, y_pred))\n",
    "print(\"Precision:\", precision_score(y_test_cleaned, y_pred))"
   ]
  },
  {
   "cell_type": "code",
   "execution_count": 47,
   "id": "fdb73374",
   "metadata": {},
   "outputs": [],
   "source": [
    "# Save the model and vectorizer\n",
    "import pickle\n",
    "pickle.dump(tfidf, open('vectorizer.pkl', 'wb'))\n",
    "pickle.dump(mnb, open('model.pkl', 'wb'))"
   ]
  }
 ],
 "metadata": {
  "kernelspec": {
   "display_name": "Python 3",
   "language": "python",
   "name": "python3"
  },
  "language_info": {
   "codemirror_mode": {
    "name": "ipython",
    "version": 3
   },
   "file_extension": ".py",
   "mimetype": "text/x-python",
   "name": "python",
   "nbconvert_exporter": "python",
   "pygments_lexer": "ipython3",
   "version": "3.12.1"
  }
 },
 "nbformat": 4,
 "nbformat_minor": 5
}
